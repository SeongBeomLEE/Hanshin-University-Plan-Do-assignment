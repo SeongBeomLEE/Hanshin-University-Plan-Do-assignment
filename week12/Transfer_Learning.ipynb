{
  "nbformat": 4,
  "nbformat_minor": 0,
  "metadata": {
    "colab": {
      "name": "Transfer Learning.ipynb",
      "provenance": [],
      "collapsed_sections": [],
      "authorship_tag": "ABX9TyPp4P02IHtbN9lobKO8n9FW"
    },
    "kernelspec": {
      "name": "python3",
      "display_name": "Python 3"
    },
    "language_info": {
      "name": "python"
    },
    "accelerator": "GPU",
    "widgets": {
      "application/vnd.jupyter.widget-state+json": {
        "efbc10f6243a47b895d1bd6cba101e8a": {
          "model_module": "@jupyter-widgets/controls",
          "model_name": "HBoxModel",
          "state": {
            "_view_name": "HBoxView",
            "_dom_classes": [],
            "_model_name": "HBoxModel",
            "_view_module": "@jupyter-widgets/controls",
            "_model_module_version": "1.5.0",
            "_view_count": null,
            "_view_module_version": "1.5.0",
            "box_style": "",
            "layout": "IPY_MODEL_aa95d348c6264d0b884709c88fc3a107",
            "_model_module": "@jupyter-widgets/controls",
            "children": [
              "IPY_MODEL_d17707ea284e4b948683448fbc66566d",
              "IPY_MODEL_7897bd3cfe124764a25b7bf209c82fda"
            ]
          }
        },
        "aa95d348c6264d0b884709c88fc3a107": {
          "model_module": "@jupyter-widgets/base",
          "model_name": "LayoutModel",
          "state": {
            "_view_name": "LayoutView",
            "grid_template_rows": null,
            "right": null,
            "justify_content": null,
            "_view_module": "@jupyter-widgets/base",
            "overflow": null,
            "_model_module_version": "1.2.0",
            "_view_count": null,
            "flex_flow": null,
            "width": null,
            "min_width": null,
            "border": null,
            "align_items": null,
            "bottom": null,
            "_model_module": "@jupyter-widgets/base",
            "top": null,
            "grid_column": null,
            "overflow_y": null,
            "overflow_x": null,
            "grid_auto_flow": null,
            "grid_area": null,
            "grid_template_columns": null,
            "flex": null,
            "_model_name": "LayoutModel",
            "justify_items": null,
            "grid_row": null,
            "max_height": null,
            "align_content": null,
            "visibility": null,
            "align_self": null,
            "height": null,
            "min_height": null,
            "padding": null,
            "grid_auto_rows": null,
            "grid_gap": null,
            "max_width": null,
            "order": null,
            "_view_module_version": "1.2.0",
            "grid_template_areas": null,
            "object_position": null,
            "object_fit": null,
            "grid_auto_columns": null,
            "margin": null,
            "display": null,
            "left": null
          }
        },
        "d17707ea284e4b948683448fbc66566d": {
          "model_module": "@jupyter-widgets/controls",
          "model_name": "FloatProgressModel",
          "state": {
            "_view_name": "ProgressView",
            "style": "IPY_MODEL_0635379b21fe4b9ea269063e3e0f2699",
            "_dom_classes": [],
            "description": "",
            "_model_name": "FloatProgressModel",
            "bar_style": "success",
            "max": 9912422,
            "_view_module": "@jupyter-widgets/controls",
            "_model_module_version": "1.5.0",
            "value": 9912422,
            "_view_count": null,
            "_view_module_version": "1.5.0",
            "orientation": "horizontal",
            "min": 0,
            "description_tooltip": null,
            "_model_module": "@jupyter-widgets/controls",
            "layout": "IPY_MODEL_d2edaf03d594459eb3b7538ab5bb0dad"
          }
        },
        "7897bd3cfe124764a25b7bf209c82fda": {
          "model_module": "@jupyter-widgets/controls",
          "model_name": "HTMLModel",
          "state": {
            "_view_name": "HTMLView",
            "style": "IPY_MODEL_26f48b1f711c4c359f5f7f47233c7e6e",
            "_dom_classes": [],
            "description": "",
            "_model_name": "HTMLModel",
            "placeholder": "​",
            "_view_module": "@jupyter-widgets/controls",
            "_model_module_version": "1.5.0",
            "value": " 9913344/? [00:05&lt;00:00, 1900870.93it/s]",
            "_view_count": null,
            "_view_module_version": "1.5.0",
            "description_tooltip": null,
            "_model_module": "@jupyter-widgets/controls",
            "layout": "IPY_MODEL_80cc9d0df75442fea51408c6c1fb506b"
          }
        },
        "0635379b21fe4b9ea269063e3e0f2699": {
          "model_module": "@jupyter-widgets/controls",
          "model_name": "ProgressStyleModel",
          "state": {
            "_view_name": "StyleView",
            "_model_name": "ProgressStyleModel",
            "description_width": "initial",
            "_view_module": "@jupyter-widgets/base",
            "_model_module_version": "1.5.0",
            "_view_count": null,
            "_view_module_version": "1.2.0",
            "bar_color": null,
            "_model_module": "@jupyter-widgets/controls"
          }
        },
        "d2edaf03d594459eb3b7538ab5bb0dad": {
          "model_module": "@jupyter-widgets/base",
          "model_name": "LayoutModel",
          "state": {
            "_view_name": "LayoutView",
            "grid_template_rows": null,
            "right": null,
            "justify_content": null,
            "_view_module": "@jupyter-widgets/base",
            "overflow": null,
            "_model_module_version": "1.2.0",
            "_view_count": null,
            "flex_flow": null,
            "width": null,
            "min_width": null,
            "border": null,
            "align_items": null,
            "bottom": null,
            "_model_module": "@jupyter-widgets/base",
            "top": null,
            "grid_column": null,
            "overflow_y": null,
            "overflow_x": null,
            "grid_auto_flow": null,
            "grid_area": null,
            "grid_template_columns": null,
            "flex": null,
            "_model_name": "LayoutModel",
            "justify_items": null,
            "grid_row": null,
            "max_height": null,
            "align_content": null,
            "visibility": null,
            "align_self": null,
            "height": null,
            "min_height": null,
            "padding": null,
            "grid_auto_rows": null,
            "grid_gap": null,
            "max_width": null,
            "order": null,
            "_view_module_version": "1.2.0",
            "grid_template_areas": null,
            "object_position": null,
            "object_fit": null,
            "grid_auto_columns": null,
            "margin": null,
            "display": null,
            "left": null
          }
        },
        "26f48b1f711c4c359f5f7f47233c7e6e": {
          "model_module": "@jupyter-widgets/controls",
          "model_name": "DescriptionStyleModel",
          "state": {
            "_view_name": "StyleView",
            "_model_name": "DescriptionStyleModel",
            "description_width": "",
            "_view_module": "@jupyter-widgets/base",
            "_model_module_version": "1.5.0",
            "_view_count": null,
            "_view_module_version": "1.2.0",
            "_model_module": "@jupyter-widgets/controls"
          }
        },
        "80cc9d0df75442fea51408c6c1fb506b": {
          "model_module": "@jupyter-widgets/base",
          "model_name": "LayoutModel",
          "state": {
            "_view_name": "LayoutView",
            "grid_template_rows": null,
            "right": null,
            "justify_content": null,
            "_view_module": "@jupyter-widgets/base",
            "overflow": null,
            "_model_module_version": "1.2.0",
            "_view_count": null,
            "flex_flow": null,
            "width": null,
            "min_width": null,
            "border": null,
            "align_items": null,
            "bottom": null,
            "_model_module": "@jupyter-widgets/base",
            "top": null,
            "grid_column": null,
            "overflow_y": null,
            "overflow_x": null,
            "grid_auto_flow": null,
            "grid_area": null,
            "grid_template_columns": null,
            "flex": null,
            "_model_name": "LayoutModel",
            "justify_items": null,
            "grid_row": null,
            "max_height": null,
            "align_content": null,
            "visibility": null,
            "align_self": null,
            "height": null,
            "min_height": null,
            "padding": null,
            "grid_auto_rows": null,
            "grid_gap": null,
            "max_width": null,
            "order": null,
            "_view_module_version": "1.2.0",
            "grid_template_areas": null,
            "object_position": null,
            "object_fit": null,
            "grid_auto_columns": null,
            "margin": null,
            "display": null,
            "left": null
          }
        },
        "157c89c08aa14491b34a017dbc416b67": {
          "model_module": "@jupyter-widgets/controls",
          "model_name": "HBoxModel",
          "state": {
            "_view_name": "HBoxView",
            "_dom_classes": [],
            "_model_name": "HBoxModel",
            "_view_module": "@jupyter-widgets/controls",
            "_model_module_version": "1.5.0",
            "_view_count": null,
            "_view_module_version": "1.5.0",
            "box_style": "",
            "layout": "IPY_MODEL_22adb9b4ec6b42ce8c182f8c2455a8ba",
            "_model_module": "@jupyter-widgets/controls",
            "children": [
              "IPY_MODEL_f19b0dedf9c14ee88193b18b073c6508",
              "IPY_MODEL_9d64313a248849e886895ed89c1eab27"
            ]
          }
        },
        "22adb9b4ec6b42ce8c182f8c2455a8ba": {
          "model_module": "@jupyter-widgets/base",
          "model_name": "LayoutModel",
          "state": {
            "_view_name": "LayoutView",
            "grid_template_rows": null,
            "right": null,
            "justify_content": null,
            "_view_module": "@jupyter-widgets/base",
            "overflow": null,
            "_model_module_version": "1.2.0",
            "_view_count": null,
            "flex_flow": null,
            "width": null,
            "min_width": null,
            "border": null,
            "align_items": null,
            "bottom": null,
            "_model_module": "@jupyter-widgets/base",
            "top": null,
            "grid_column": null,
            "overflow_y": null,
            "overflow_x": null,
            "grid_auto_flow": null,
            "grid_area": null,
            "grid_template_columns": null,
            "flex": null,
            "_model_name": "LayoutModel",
            "justify_items": null,
            "grid_row": null,
            "max_height": null,
            "align_content": null,
            "visibility": null,
            "align_self": null,
            "height": null,
            "min_height": null,
            "padding": null,
            "grid_auto_rows": null,
            "grid_gap": null,
            "max_width": null,
            "order": null,
            "_view_module_version": "1.2.0",
            "grid_template_areas": null,
            "object_position": null,
            "object_fit": null,
            "grid_auto_columns": null,
            "margin": null,
            "display": null,
            "left": null
          }
        },
        "f19b0dedf9c14ee88193b18b073c6508": {
          "model_module": "@jupyter-widgets/controls",
          "model_name": "FloatProgressModel",
          "state": {
            "_view_name": "ProgressView",
            "style": "IPY_MODEL_e727c7a4f47543b7981053da3b9a08e2",
            "_dom_classes": [],
            "description": "",
            "_model_name": "FloatProgressModel",
            "bar_style": "success",
            "max": 28881,
            "_view_module": "@jupyter-widgets/controls",
            "_model_module_version": "1.5.0",
            "value": 28881,
            "_view_count": null,
            "_view_module_version": "1.5.0",
            "orientation": "horizontal",
            "min": 0,
            "description_tooltip": null,
            "_model_module": "@jupyter-widgets/controls",
            "layout": "IPY_MODEL_1366eb4299a34a8a96164b81cae53c08"
          }
        },
        "9d64313a248849e886895ed89c1eab27": {
          "model_module": "@jupyter-widgets/controls",
          "model_name": "HTMLModel",
          "state": {
            "_view_name": "HTMLView",
            "style": "IPY_MODEL_5284406218ee4ac7b6413e1814ecbdf4",
            "_dom_classes": [],
            "description": "",
            "_model_name": "HTMLModel",
            "placeholder": "​",
            "_view_module": "@jupyter-widgets/controls",
            "_model_module_version": "1.5.0",
            "value": " 29696/? [00:03&lt;00:00, 9685.37it/s]",
            "_view_count": null,
            "_view_module_version": "1.5.0",
            "description_tooltip": null,
            "_model_module": "@jupyter-widgets/controls",
            "layout": "IPY_MODEL_3acbac5d74f3429cabf47340d86dfe2f"
          }
        },
        "e727c7a4f47543b7981053da3b9a08e2": {
          "model_module": "@jupyter-widgets/controls",
          "model_name": "ProgressStyleModel",
          "state": {
            "_view_name": "StyleView",
            "_model_name": "ProgressStyleModel",
            "description_width": "initial",
            "_view_module": "@jupyter-widgets/base",
            "_model_module_version": "1.5.0",
            "_view_count": null,
            "_view_module_version": "1.2.0",
            "bar_color": null,
            "_model_module": "@jupyter-widgets/controls"
          }
        },
        "1366eb4299a34a8a96164b81cae53c08": {
          "model_module": "@jupyter-widgets/base",
          "model_name": "LayoutModel",
          "state": {
            "_view_name": "LayoutView",
            "grid_template_rows": null,
            "right": null,
            "justify_content": null,
            "_view_module": "@jupyter-widgets/base",
            "overflow": null,
            "_model_module_version": "1.2.0",
            "_view_count": null,
            "flex_flow": null,
            "width": null,
            "min_width": null,
            "border": null,
            "align_items": null,
            "bottom": null,
            "_model_module": "@jupyter-widgets/base",
            "top": null,
            "grid_column": null,
            "overflow_y": null,
            "overflow_x": null,
            "grid_auto_flow": null,
            "grid_area": null,
            "grid_template_columns": null,
            "flex": null,
            "_model_name": "LayoutModel",
            "justify_items": null,
            "grid_row": null,
            "max_height": null,
            "align_content": null,
            "visibility": null,
            "align_self": null,
            "height": null,
            "min_height": null,
            "padding": null,
            "grid_auto_rows": null,
            "grid_gap": null,
            "max_width": null,
            "order": null,
            "_view_module_version": "1.2.0",
            "grid_template_areas": null,
            "object_position": null,
            "object_fit": null,
            "grid_auto_columns": null,
            "margin": null,
            "display": null,
            "left": null
          }
        },
        "5284406218ee4ac7b6413e1814ecbdf4": {
          "model_module": "@jupyter-widgets/controls",
          "model_name": "DescriptionStyleModel",
          "state": {
            "_view_name": "StyleView",
            "_model_name": "DescriptionStyleModel",
            "description_width": "",
            "_view_module": "@jupyter-widgets/base",
            "_model_module_version": "1.5.0",
            "_view_count": null,
            "_view_module_version": "1.2.0",
            "_model_module": "@jupyter-widgets/controls"
          }
        },
        "3acbac5d74f3429cabf47340d86dfe2f": {
          "model_module": "@jupyter-widgets/base",
          "model_name": "LayoutModel",
          "state": {
            "_view_name": "LayoutView",
            "grid_template_rows": null,
            "right": null,
            "justify_content": null,
            "_view_module": "@jupyter-widgets/base",
            "overflow": null,
            "_model_module_version": "1.2.0",
            "_view_count": null,
            "flex_flow": null,
            "width": null,
            "min_width": null,
            "border": null,
            "align_items": null,
            "bottom": null,
            "_model_module": "@jupyter-widgets/base",
            "top": null,
            "grid_column": null,
            "overflow_y": null,
            "overflow_x": null,
            "grid_auto_flow": null,
            "grid_area": null,
            "grid_template_columns": null,
            "flex": null,
            "_model_name": "LayoutModel",
            "justify_items": null,
            "grid_row": null,
            "max_height": null,
            "align_content": null,
            "visibility": null,
            "align_self": null,
            "height": null,
            "min_height": null,
            "padding": null,
            "grid_auto_rows": null,
            "grid_gap": null,
            "max_width": null,
            "order": null,
            "_view_module_version": "1.2.0",
            "grid_template_areas": null,
            "object_position": null,
            "object_fit": null,
            "grid_auto_columns": null,
            "margin": null,
            "display": null,
            "left": null
          }
        },
        "3db50c6158994373b778ba1fe1b9299d": {
          "model_module": "@jupyter-widgets/controls",
          "model_name": "HBoxModel",
          "state": {
            "_view_name": "HBoxView",
            "_dom_classes": [],
            "_model_name": "HBoxModel",
            "_view_module": "@jupyter-widgets/controls",
            "_model_module_version": "1.5.0",
            "_view_count": null,
            "_view_module_version": "1.5.0",
            "box_style": "",
            "layout": "IPY_MODEL_0b69ef09f8424422a11453cd343c3e42",
            "_model_module": "@jupyter-widgets/controls",
            "children": [
              "IPY_MODEL_63dde3c4fe3448beb75615b10696743a",
              "IPY_MODEL_a8edb695c42241b9a36e7a1b050e6f1e"
            ]
          }
        },
        "0b69ef09f8424422a11453cd343c3e42": {
          "model_module": "@jupyter-widgets/base",
          "model_name": "LayoutModel",
          "state": {
            "_view_name": "LayoutView",
            "grid_template_rows": null,
            "right": null,
            "justify_content": null,
            "_view_module": "@jupyter-widgets/base",
            "overflow": null,
            "_model_module_version": "1.2.0",
            "_view_count": null,
            "flex_flow": null,
            "width": null,
            "min_width": null,
            "border": null,
            "align_items": null,
            "bottom": null,
            "_model_module": "@jupyter-widgets/base",
            "top": null,
            "grid_column": null,
            "overflow_y": null,
            "overflow_x": null,
            "grid_auto_flow": null,
            "grid_area": null,
            "grid_template_columns": null,
            "flex": null,
            "_model_name": "LayoutModel",
            "justify_items": null,
            "grid_row": null,
            "max_height": null,
            "align_content": null,
            "visibility": null,
            "align_self": null,
            "height": null,
            "min_height": null,
            "padding": null,
            "grid_auto_rows": null,
            "grid_gap": null,
            "max_width": null,
            "order": null,
            "_view_module_version": "1.2.0",
            "grid_template_areas": null,
            "object_position": null,
            "object_fit": null,
            "grid_auto_columns": null,
            "margin": null,
            "display": null,
            "left": null
          }
        },
        "63dde3c4fe3448beb75615b10696743a": {
          "model_module": "@jupyter-widgets/controls",
          "model_name": "FloatProgressModel",
          "state": {
            "_view_name": "ProgressView",
            "style": "IPY_MODEL_4d6f124c17cc4aa2b30d7f4d7af4145b",
            "_dom_classes": [],
            "description": "",
            "_model_name": "FloatProgressModel",
            "bar_style": "success",
            "max": 1648877,
            "_view_module": "@jupyter-widgets/controls",
            "_model_module_version": "1.5.0",
            "value": 1648877,
            "_view_count": null,
            "_view_module_version": "1.5.0",
            "orientation": "horizontal",
            "min": 0,
            "description_tooltip": null,
            "_model_module": "@jupyter-widgets/controls",
            "layout": "IPY_MODEL_7bf5021f21be4dceb851723f23fc6d50"
          }
        },
        "a8edb695c42241b9a36e7a1b050e6f1e": {
          "model_module": "@jupyter-widgets/controls",
          "model_name": "HTMLModel",
          "state": {
            "_view_name": "HTMLView",
            "style": "IPY_MODEL_8bcfeb2e36354f22a0ac66c96efc03af",
            "_dom_classes": [],
            "description": "",
            "_model_name": "HTMLModel",
            "placeholder": "​",
            "_view_module": "@jupyter-widgets/controls",
            "_model_module_version": "1.5.0",
            "value": " 1649664/? [00:01&lt;00:00, 925770.16it/s]",
            "_view_count": null,
            "_view_module_version": "1.5.0",
            "description_tooltip": null,
            "_model_module": "@jupyter-widgets/controls",
            "layout": "IPY_MODEL_10e7addfe97e47a887041ec1e106ef23"
          }
        },
        "4d6f124c17cc4aa2b30d7f4d7af4145b": {
          "model_module": "@jupyter-widgets/controls",
          "model_name": "ProgressStyleModel",
          "state": {
            "_view_name": "StyleView",
            "_model_name": "ProgressStyleModel",
            "description_width": "initial",
            "_view_module": "@jupyter-widgets/base",
            "_model_module_version": "1.5.0",
            "_view_count": null,
            "_view_module_version": "1.2.0",
            "bar_color": null,
            "_model_module": "@jupyter-widgets/controls"
          }
        },
        "7bf5021f21be4dceb851723f23fc6d50": {
          "model_module": "@jupyter-widgets/base",
          "model_name": "LayoutModel",
          "state": {
            "_view_name": "LayoutView",
            "grid_template_rows": null,
            "right": null,
            "justify_content": null,
            "_view_module": "@jupyter-widgets/base",
            "overflow": null,
            "_model_module_version": "1.2.0",
            "_view_count": null,
            "flex_flow": null,
            "width": null,
            "min_width": null,
            "border": null,
            "align_items": null,
            "bottom": null,
            "_model_module": "@jupyter-widgets/base",
            "top": null,
            "grid_column": null,
            "overflow_y": null,
            "overflow_x": null,
            "grid_auto_flow": null,
            "grid_area": null,
            "grid_template_columns": null,
            "flex": null,
            "_model_name": "LayoutModel",
            "justify_items": null,
            "grid_row": null,
            "max_height": null,
            "align_content": null,
            "visibility": null,
            "align_self": null,
            "height": null,
            "min_height": null,
            "padding": null,
            "grid_auto_rows": null,
            "grid_gap": null,
            "max_width": null,
            "order": null,
            "_view_module_version": "1.2.0",
            "grid_template_areas": null,
            "object_position": null,
            "object_fit": null,
            "grid_auto_columns": null,
            "margin": null,
            "display": null,
            "left": null
          }
        },
        "8bcfeb2e36354f22a0ac66c96efc03af": {
          "model_module": "@jupyter-widgets/controls",
          "model_name": "DescriptionStyleModel",
          "state": {
            "_view_name": "StyleView",
            "_model_name": "DescriptionStyleModel",
            "description_width": "",
            "_view_module": "@jupyter-widgets/base",
            "_model_module_version": "1.5.0",
            "_view_count": null,
            "_view_module_version": "1.2.0",
            "_model_module": "@jupyter-widgets/controls"
          }
        },
        "10e7addfe97e47a887041ec1e106ef23": {
          "model_module": "@jupyter-widgets/base",
          "model_name": "LayoutModel",
          "state": {
            "_view_name": "LayoutView",
            "grid_template_rows": null,
            "right": null,
            "justify_content": null,
            "_view_module": "@jupyter-widgets/base",
            "overflow": null,
            "_model_module_version": "1.2.0",
            "_view_count": null,
            "flex_flow": null,
            "width": null,
            "min_width": null,
            "border": null,
            "align_items": null,
            "bottom": null,
            "_model_module": "@jupyter-widgets/base",
            "top": null,
            "grid_column": null,
            "overflow_y": null,
            "overflow_x": null,
            "grid_auto_flow": null,
            "grid_area": null,
            "grid_template_columns": null,
            "flex": null,
            "_model_name": "LayoutModel",
            "justify_items": null,
            "grid_row": null,
            "max_height": null,
            "align_content": null,
            "visibility": null,
            "align_self": null,
            "height": null,
            "min_height": null,
            "padding": null,
            "grid_auto_rows": null,
            "grid_gap": null,
            "max_width": null,
            "order": null,
            "_view_module_version": "1.2.0",
            "grid_template_areas": null,
            "object_position": null,
            "object_fit": null,
            "grid_auto_columns": null,
            "margin": null,
            "display": null,
            "left": null
          }
        },
        "ac084bd49f8b4704ba20227bd4db3f59": {
          "model_module": "@jupyter-widgets/controls",
          "model_name": "HBoxModel",
          "state": {
            "_view_name": "HBoxView",
            "_dom_classes": [],
            "_model_name": "HBoxModel",
            "_view_module": "@jupyter-widgets/controls",
            "_model_module_version": "1.5.0",
            "_view_count": null,
            "_view_module_version": "1.5.0",
            "box_style": "",
            "layout": "IPY_MODEL_1e319f969a174d408a1052cc0614faaa",
            "_model_module": "@jupyter-widgets/controls",
            "children": [
              "IPY_MODEL_3c0d251f41d9468985975bc36600f7cf",
              "IPY_MODEL_733dfbf19f864f20ac2f4e30f7fd164c"
            ]
          }
        },
        "1e319f969a174d408a1052cc0614faaa": {
          "model_module": "@jupyter-widgets/base",
          "model_name": "LayoutModel",
          "state": {
            "_view_name": "LayoutView",
            "grid_template_rows": null,
            "right": null,
            "justify_content": null,
            "_view_module": "@jupyter-widgets/base",
            "overflow": null,
            "_model_module_version": "1.2.0",
            "_view_count": null,
            "flex_flow": null,
            "width": null,
            "min_width": null,
            "border": null,
            "align_items": null,
            "bottom": null,
            "_model_module": "@jupyter-widgets/base",
            "top": null,
            "grid_column": null,
            "overflow_y": null,
            "overflow_x": null,
            "grid_auto_flow": null,
            "grid_area": null,
            "grid_template_columns": null,
            "flex": null,
            "_model_name": "LayoutModel",
            "justify_items": null,
            "grid_row": null,
            "max_height": null,
            "align_content": null,
            "visibility": null,
            "align_self": null,
            "height": null,
            "min_height": null,
            "padding": null,
            "grid_auto_rows": null,
            "grid_gap": null,
            "max_width": null,
            "order": null,
            "_view_module_version": "1.2.0",
            "grid_template_areas": null,
            "object_position": null,
            "object_fit": null,
            "grid_auto_columns": null,
            "margin": null,
            "display": null,
            "left": null
          }
        },
        "3c0d251f41d9468985975bc36600f7cf": {
          "model_module": "@jupyter-widgets/controls",
          "model_name": "FloatProgressModel",
          "state": {
            "_view_name": "ProgressView",
            "style": "IPY_MODEL_aa7d084b287b4a738d6eae70b330d55c",
            "_dom_classes": [],
            "description": "",
            "_model_name": "FloatProgressModel",
            "bar_style": "success",
            "max": 4542,
            "_view_module": "@jupyter-widgets/controls",
            "_model_module_version": "1.5.0",
            "value": 4542,
            "_view_count": null,
            "_view_module_version": "1.5.0",
            "orientation": "horizontal",
            "min": 0,
            "description_tooltip": null,
            "_model_module": "@jupyter-widgets/controls",
            "layout": "IPY_MODEL_24b1832d6203421e821b63eb777aedb6"
          }
        },
        "733dfbf19f864f20ac2f4e30f7fd164c": {
          "model_module": "@jupyter-widgets/controls",
          "model_name": "HTMLModel",
          "state": {
            "_view_name": "HTMLView",
            "style": "IPY_MODEL_736209e77b4c468dbdfd6c837a0e3455",
            "_dom_classes": [],
            "description": "",
            "_model_name": "HTMLModel",
            "placeholder": "​",
            "_view_module": "@jupyter-widgets/controls",
            "_model_module_version": "1.5.0",
            "value": " 5120/? [00:00&lt;00:00, 22220.01it/s]",
            "_view_count": null,
            "_view_module_version": "1.5.0",
            "description_tooltip": null,
            "_model_module": "@jupyter-widgets/controls",
            "layout": "IPY_MODEL_ad87dc64806949d58df457a424580270"
          }
        },
        "aa7d084b287b4a738d6eae70b330d55c": {
          "model_module": "@jupyter-widgets/controls",
          "model_name": "ProgressStyleModel",
          "state": {
            "_view_name": "StyleView",
            "_model_name": "ProgressStyleModel",
            "description_width": "initial",
            "_view_module": "@jupyter-widgets/base",
            "_model_module_version": "1.5.0",
            "_view_count": null,
            "_view_module_version": "1.2.0",
            "bar_color": null,
            "_model_module": "@jupyter-widgets/controls"
          }
        },
        "24b1832d6203421e821b63eb777aedb6": {
          "model_module": "@jupyter-widgets/base",
          "model_name": "LayoutModel",
          "state": {
            "_view_name": "LayoutView",
            "grid_template_rows": null,
            "right": null,
            "justify_content": null,
            "_view_module": "@jupyter-widgets/base",
            "overflow": null,
            "_model_module_version": "1.2.0",
            "_view_count": null,
            "flex_flow": null,
            "width": null,
            "min_width": null,
            "border": null,
            "align_items": null,
            "bottom": null,
            "_model_module": "@jupyter-widgets/base",
            "top": null,
            "grid_column": null,
            "overflow_y": null,
            "overflow_x": null,
            "grid_auto_flow": null,
            "grid_area": null,
            "grid_template_columns": null,
            "flex": null,
            "_model_name": "LayoutModel",
            "justify_items": null,
            "grid_row": null,
            "max_height": null,
            "align_content": null,
            "visibility": null,
            "align_self": null,
            "height": null,
            "min_height": null,
            "padding": null,
            "grid_auto_rows": null,
            "grid_gap": null,
            "max_width": null,
            "order": null,
            "_view_module_version": "1.2.0",
            "grid_template_areas": null,
            "object_position": null,
            "object_fit": null,
            "grid_auto_columns": null,
            "margin": null,
            "display": null,
            "left": null
          }
        },
        "736209e77b4c468dbdfd6c837a0e3455": {
          "model_module": "@jupyter-widgets/controls",
          "model_name": "DescriptionStyleModel",
          "state": {
            "_view_name": "StyleView",
            "_model_name": "DescriptionStyleModel",
            "description_width": "",
            "_view_module": "@jupyter-widgets/base",
            "_model_module_version": "1.5.0",
            "_view_count": null,
            "_view_module_version": "1.2.0",
            "_model_module": "@jupyter-widgets/controls"
          }
        },
        "ad87dc64806949d58df457a424580270": {
          "model_module": "@jupyter-widgets/base",
          "model_name": "LayoutModel",
          "state": {
            "_view_name": "LayoutView",
            "grid_template_rows": null,
            "right": null,
            "justify_content": null,
            "_view_module": "@jupyter-widgets/base",
            "overflow": null,
            "_model_module_version": "1.2.0",
            "_view_count": null,
            "flex_flow": null,
            "width": null,
            "min_width": null,
            "border": null,
            "align_items": null,
            "bottom": null,
            "_model_module": "@jupyter-widgets/base",
            "top": null,
            "grid_column": null,
            "overflow_y": null,
            "overflow_x": null,
            "grid_auto_flow": null,
            "grid_area": null,
            "grid_template_columns": null,
            "flex": null,
            "_model_name": "LayoutModel",
            "justify_items": null,
            "grid_row": null,
            "max_height": null,
            "align_content": null,
            "visibility": null,
            "align_self": null,
            "height": null,
            "min_height": null,
            "padding": null,
            "grid_auto_rows": null,
            "grid_gap": null,
            "max_width": null,
            "order": null,
            "_view_module_version": "1.2.0",
            "grid_template_areas": null,
            "object_position": null,
            "object_fit": null,
            "grid_auto_columns": null,
            "margin": null,
            "display": null,
            "left": null
          }
        },
        "bf587ed679164e649d01182b77b2c74c": {
          "model_module": "@jupyter-widgets/controls",
          "model_name": "HBoxModel",
          "state": {
            "_view_name": "HBoxView",
            "_dom_classes": [],
            "_model_name": "HBoxModel",
            "_view_module": "@jupyter-widgets/controls",
            "_model_module_version": "1.5.0",
            "_view_count": null,
            "_view_module_version": "1.5.0",
            "box_style": "",
            "layout": "IPY_MODEL_ae5e8059ed8c43bd9b8c48f4ed691a83",
            "_model_module": "@jupyter-widgets/controls",
            "children": [
              "IPY_MODEL_319ebc39d34a4b5b9fd60902f1adae53",
              "IPY_MODEL_098658d656ea4a78afca8b6f6f51aa9b"
            ]
          }
        },
        "ae5e8059ed8c43bd9b8c48f4ed691a83": {
          "model_module": "@jupyter-widgets/base",
          "model_name": "LayoutModel",
          "state": {
            "_view_name": "LayoutView",
            "grid_template_rows": null,
            "right": null,
            "justify_content": null,
            "_view_module": "@jupyter-widgets/base",
            "overflow": null,
            "_model_module_version": "1.2.0",
            "_view_count": null,
            "flex_flow": null,
            "width": null,
            "min_width": null,
            "border": null,
            "align_items": null,
            "bottom": null,
            "_model_module": "@jupyter-widgets/base",
            "top": null,
            "grid_column": null,
            "overflow_y": null,
            "overflow_x": null,
            "grid_auto_flow": null,
            "grid_area": null,
            "grid_template_columns": null,
            "flex": null,
            "_model_name": "LayoutModel",
            "justify_items": null,
            "grid_row": null,
            "max_height": null,
            "align_content": null,
            "visibility": null,
            "align_self": null,
            "height": null,
            "min_height": null,
            "padding": null,
            "grid_auto_rows": null,
            "grid_gap": null,
            "max_width": null,
            "order": null,
            "_view_module_version": "1.2.0",
            "grid_template_areas": null,
            "object_position": null,
            "object_fit": null,
            "grid_auto_columns": null,
            "margin": null,
            "display": null,
            "left": null
          }
        },
        "319ebc39d34a4b5b9fd60902f1adae53": {
          "model_module": "@jupyter-widgets/controls",
          "model_name": "FloatProgressModel",
          "state": {
            "_view_name": "ProgressView",
            "style": "IPY_MODEL_a87d652d675540479607b6b0bc910529",
            "_dom_classes": [],
            "description": "100%",
            "_model_name": "FloatProgressModel",
            "bar_style": "success",
            "max": 32342954,
            "_view_module": "@jupyter-widgets/controls",
            "_model_module_version": "1.5.0",
            "value": 32342954,
            "_view_count": null,
            "_view_module_version": "1.5.0",
            "orientation": "horizontal",
            "min": 0,
            "description_tooltip": null,
            "_model_module": "@jupyter-widgets/controls",
            "layout": "IPY_MODEL_7be9bbe549ef42e9b06029b0af4483db"
          }
        },
        "098658d656ea4a78afca8b6f6f51aa9b": {
          "model_module": "@jupyter-widgets/controls",
          "model_name": "HTMLModel",
          "state": {
            "_view_name": "HTMLView",
            "style": "IPY_MODEL_0b3dd962a5fa4514964494bfea8427c7",
            "_dom_classes": [],
            "description": "",
            "_model_name": "HTMLModel",
            "placeholder": "​",
            "_view_module": "@jupyter-widgets/controls",
            "_model_module_version": "1.5.0",
            "value": " 30.8M/30.8M [00:01&lt;00:00, 26.8MB/s]",
            "_view_count": null,
            "_view_module_version": "1.5.0",
            "description_tooltip": null,
            "_model_module": "@jupyter-widgets/controls",
            "layout": "IPY_MODEL_ba2ad373b71f42b0922464e94332f876"
          }
        },
        "a87d652d675540479607b6b0bc910529": {
          "model_module": "@jupyter-widgets/controls",
          "model_name": "ProgressStyleModel",
          "state": {
            "_view_name": "StyleView",
            "_model_name": "ProgressStyleModel",
            "description_width": "initial",
            "_view_module": "@jupyter-widgets/base",
            "_model_module_version": "1.5.0",
            "_view_count": null,
            "_view_module_version": "1.2.0",
            "bar_color": null,
            "_model_module": "@jupyter-widgets/controls"
          }
        },
        "7be9bbe549ef42e9b06029b0af4483db": {
          "model_module": "@jupyter-widgets/base",
          "model_name": "LayoutModel",
          "state": {
            "_view_name": "LayoutView",
            "grid_template_rows": null,
            "right": null,
            "justify_content": null,
            "_view_module": "@jupyter-widgets/base",
            "overflow": null,
            "_model_module_version": "1.2.0",
            "_view_count": null,
            "flex_flow": null,
            "width": null,
            "min_width": null,
            "border": null,
            "align_items": null,
            "bottom": null,
            "_model_module": "@jupyter-widgets/base",
            "top": null,
            "grid_column": null,
            "overflow_y": null,
            "overflow_x": null,
            "grid_auto_flow": null,
            "grid_area": null,
            "grid_template_columns": null,
            "flex": null,
            "_model_name": "LayoutModel",
            "justify_items": null,
            "grid_row": null,
            "max_height": null,
            "align_content": null,
            "visibility": null,
            "align_self": null,
            "height": null,
            "min_height": null,
            "padding": null,
            "grid_auto_rows": null,
            "grid_gap": null,
            "max_width": null,
            "order": null,
            "_view_module_version": "1.2.0",
            "grid_template_areas": null,
            "object_position": null,
            "object_fit": null,
            "grid_auto_columns": null,
            "margin": null,
            "display": null,
            "left": null
          }
        },
        "0b3dd962a5fa4514964494bfea8427c7": {
          "model_module": "@jupyter-widgets/controls",
          "model_name": "DescriptionStyleModel",
          "state": {
            "_view_name": "StyleView",
            "_model_name": "DescriptionStyleModel",
            "description_width": "",
            "_view_module": "@jupyter-widgets/base",
            "_model_module_version": "1.5.0",
            "_view_count": null,
            "_view_module_version": "1.2.0",
            "_model_module": "@jupyter-widgets/controls"
          }
        },
        "ba2ad373b71f42b0922464e94332f876": {
          "model_module": "@jupyter-widgets/base",
          "model_name": "LayoutModel",
          "state": {
            "_view_name": "LayoutView",
            "grid_template_rows": null,
            "right": null,
            "justify_content": null,
            "_view_module": "@jupyter-widgets/base",
            "overflow": null,
            "_model_module_version": "1.2.0",
            "_view_count": null,
            "flex_flow": null,
            "width": null,
            "min_width": null,
            "border": null,
            "align_items": null,
            "bottom": null,
            "_model_module": "@jupyter-widgets/base",
            "top": null,
            "grid_column": null,
            "overflow_y": null,
            "overflow_x": null,
            "grid_auto_flow": null,
            "grid_area": null,
            "grid_template_columns": null,
            "flex": null,
            "_model_name": "LayoutModel",
            "justify_items": null,
            "grid_row": null,
            "max_height": null,
            "align_content": null,
            "visibility": null,
            "align_self": null,
            "height": null,
            "min_height": null,
            "padding": null,
            "grid_auto_rows": null,
            "grid_gap": null,
            "max_width": null,
            "order": null,
            "_view_module_version": "1.2.0",
            "grid_template_areas": null,
            "object_position": null,
            "object_fit": null,
            "grid_auto_columns": null,
            "margin": null,
            "display": null,
            "left": null
          }
        }
      }
    }
  },
  "cells": [
    {
      "cell_type": "markdown",
      "metadata": {
        "id": "CfAz2KFgh3lY"
      },
      "source": [
        "# 한신대학교 e-비즈니스학과 201646006 이성범 PD학기제"
      ]
    },
    {
      "cell_type": "markdown",
      "metadata": {
        "id": "7Bawnivrniei"
      },
      "source": [
        "# Transfer Learning 이란?\n",
        "\n",
        "전이 학습(Transfer Learning)은 미리 학습된 모델(Pre - Trained Model)을 상황에 맞게 조정하여 사용하는 것을 말한다.\n",
        "\n",
        "만약에 내가 이미지를 구분하는 딥러닝 모델을 구축한다고 가정해보자. 우선 딥러닝 모델을 구축하기 위해서는 많은 양의 데이터가 필요하다. 그런데 내가 수집할 수 있는 데이터가 약 100여장 밖에 없다면 활용할 수 있는 데이터가 매우 적기 때문에 딥러닝 모델을 구축하기 매우 어려울 것이다.\n",
        "\n",
        "이러한 상황에서 필요한 기술이 바로 전이학습이다. 전이 학습은 앞에서 설명했던 것처럼 미리 학습된 모델을 자신의 상황에 알맞게 조정하여 사용하는 것이다. 내가 만약에 이미지를 구분하는 딥러닝 모델이 필요하다고 가정하면 미리 이미지 데이터를 가지고 학습 시킨 모델을 가지고 재학습(Fine - Tuning)사키면 된다. 이렇게 전이학습을 통해서 우리는 적은 수의 데이터 셋을 가졌지만 성능이 우수한 모델을 얻을 수 있게 된다.\n",
        "\n",
        "전이 학습을 통해서 성능이 우수한 모델을 얻을 수 있는 이유는 Pre - Trained Model이 이미 다양한 이미지의 Feature을 학습 시켰다고 볼 수 있기 때문이다. 따라서 우리는 적절한 전략을 통해서 Pre - Trained Model을 활용하면 적은 데이터 셋을 가지고도 우수한 성능을 가진 모델을 얻을 수 있다. \n",
        "\n",
        "전이 학습을 위한 전략을 데이터셋의 크기와 데이터셋의 유사성을 기반으로 나누어 볼 때\n",
        "- 데이터셋의 크기가 클 때 + 모델을 학습 시킨 데이터셋과 내가 수집한 데이터셋이 유사할 때 : 일부 레이어만 Freeze하여 모델을 학습\n",
        "\n",
        "- 데이터셋의 크기가 작을 때 + 모델을 학습 시킨 데이터셋과 내가 수집한 데이터셋이 유사할 때 : Convolutinonal Layer만 Freeze하고 Classifier 부분만 학습\n",
        "\n",
        "- 모델의 구조만 유지하고 모델을 전체 학습 데이터셋의 크기가 클 때 + 모델을 학습 시킨 데이터셋과 내가 수집한 데이터셋이 유사하지 않을 때 : 모델의 구조만 유지하고 전체 레이어를 UnFreeze하여 모델을 학습\n",
        "\n",
        "- 데이터셋의 크기가 작을 때 + 모델을 학습 시킨 데이터셋과 내가 수집한 데이터셋이 유사하지 않을 때 : 모델을 새롭게 구축하거나 오버피팅을 방지하고자 일부 레이어만 Freeze하여 모델을 학습\n",
        "\n",
        "으로 알아볼 수 있다.\n",
        "\n",
        "그리고 전이 학습을 가중치 초기화 기법에 하나의 방법으로 보는 인식도 존재한다. 앞에서 네트워크 높은 성능과 빠른 수렴을 위해서는 가중치를 적절하게 초기화 하는 것이 중요하다고 배웠다. 이러한 측면에서 Pre - Trained Model의 학습된 가중치를 초기 가중치로 활용하여 모델을 학습시켜서 높은 성능을 얻을 수 있게 된다.\n",
        "\n",
        "이렇듯 자신의 상황에 알맞게 전이 학습을 활용하면 성능이 우수한 모델을 얻을 수 있게 될 것이다."
      ]
    },
    {
      "cell_type": "markdown",
      "metadata": {
        "id": "aFQ2hKpPnkXj"
      },
      "source": [
        "# Transfer Learning실습\n",
        "\n",
        "CVPR에서 2017년에 발표된 Densely Connected Convolutional Networks논문에서 소개된 DenseNet을 가지고 앞에서 언급한 다양한 전이 학습 방법을 MNIST 데이터를 가지고 실습을 진행했다."
      ]
    },
    {
      "cell_type": "code",
      "metadata": {
        "id": "MCKJdKGjtTAc"
      },
      "source": [
        "import torch\n",
        "import torch.nn as nn\n",
        "import torch.nn.functional as F\n",
        "import torchvision\n",
        "from torchvision import transforms, datasets\n",
        "\n",
        "import pandas as pd\n",
        "import numpy as np\n",
        "import matplotlib.pyplot as plt\n",
        "import warnings\n",
        "\n",
        "warnings.filterwarnings(\"ignore\")"
      ],
      "execution_count": null,
      "outputs": []
    },
    {
      "cell_type": "code",
      "metadata": {
        "id": "lQHFOrcFodCD"
      },
      "source": [
        "if torch.cuda.is_available():\n",
        "  DEVICE = torch.device('cuda')\n",
        "else:\n",
        "  DEVICE = torch.device('cpu')"
      ],
      "execution_count": null,
      "outputs": []
    },
    {
      "cell_type": "code",
      "metadata": {
        "id": "Q5eUl4fsoiX6"
      },
      "source": [
        "BATCH_SIZE = 128\n",
        "EPOCHS = 10"
      ],
      "execution_count": null,
      "outputs": []
    },
    {
      "cell_type": "code",
      "metadata": {
        "colab": {
          "base_uri": "https://localhost:8080/",
          "height": 849,
          "referenced_widgets": [
            "efbc10f6243a47b895d1bd6cba101e8a",
            "aa95d348c6264d0b884709c88fc3a107",
            "d17707ea284e4b948683448fbc66566d",
            "7897bd3cfe124764a25b7bf209c82fda",
            "0635379b21fe4b9ea269063e3e0f2699",
            "d2edaf03d594459eb3b7538ab5bb0dad",
            "26f48b1f711c4c359f5f7f47233c7e6e",
            "80cc9d0df75442fea51408c6c1fb506b",
            "157c89c08aa14491b34a017dbc416b67",
            "22adb9b4ec6b42ce8c182f8c2455a8ba",
            "f19b0dedf9c14ee88193b18b073c6508",
            "9d64313a248849e886895ed89c1eab27",
            "e727c7a4f47543b7981053da3b9a08e2",
            "1366eb4299a34a8a96164b81cae53c08",
            "5284406218ee4ac7b6413e1814ecbdf4",
            "3acbac5d74f3429cabf47340d86dfe2f",
            "3db50c6158994373b778ba1fe1b9299d",
            "0b69ef09f8424422a11453cd343c3e42",
            "63dde3c4fe3448beb75615b10696743a",
            "a8edb695c42241b9a36e7a1b050e6f1e",
            "4d6f124c17cc4aa2b30d7f4d7af4145b",
            "7bf5021f21be4dceb851723f23fc6d50",
            "8bcfeb2e36354f22a0ac66c96efc03af",
            "10e7addfe97e47a887041ec1e106ef23",
            "ac084bd49f8b4704ba20227bd4db3f59",
            "1e319f969a174d408a1052cc0614faaa",
            "3c0d251f41d9468985975bc36600f7cf",
            "733dfbf19f864f20ac2f4e30f7fd164c",
            "aa7d084b287b4a738d6eae70b330d55c",
            "24b1832d6203421e821b63eb777aedb6",
            "736209e77b4c468dbdfd6c837a0e3455",
            "ad87dc64806949d58df457a424580270"
          ]
        },
        "id": "NuJ0I11gogcZ",
        "outputId": "5110f361-1b78-41a3-f800-94ceafa265a3"
      },
      "source": [
        "train_dataset = datasets.MNIST(root = \"../data/MNIST\",\n",
        "                               train = True,\n",
        "                               download = True,\n",
        "                               transform = transforms.ToTensor())\n",
        "\n",
        "test_dataset = datasets.MNIST(root = \"../data/MNIST\",\n",
        "                               train = False,\n",
        "                               transform = transforms.ToTensor())\n",
        "\n",
        "train_loader = torch.utils.data.DataLoader(dataset = train_dataset,\n",
        "                                           batch_size = BATCH_SIZE,\n",
        "                                           shuffle = True)\n",
        "\n",
        "test_loader = torch.utils.data.DataLoader(dataset = test_dataset,\n",
        "                                           batch_size = BATCH_SIZE,\n",
        "                                           shuffle = False)"
      ],
      "execution_count": null,
      "outputs": [
        {
          "output_type": "stream",
          "text": [
            "Downloading http://yann.lecun.com/exdb/mnist/train-images-idx3-ubyte.gz\n",
            "Failed to download (trying next):\n",
            "HTTP Error 503: Service Unavailable\n",
            "\n",
            "Downloading https://ossci-datasets.s3.amazonaws.com/mnist/train-images-idx3-ubyte.gz\n",
            "Downloading https://ossci-datasets.s3.amazonaws.com/mnist/train-images-idx3-ubyte.gz to ../data/MNIST/MNIST/raw/train-images-idx3-ubyte.gz\n"
          ],
          "name": "stdout"
        },
        {
          "output_type": "display_data",
          "data": {
            "application/vnd.jupyter.widget-view+json": {
              "model_id": "efbc10f6243a47b895d1bd6cba101e8a",
              "version_minor": 0,
              "version_major": 2
            },
            "text/plain": [
              "HBox(children=(FloatProgress(value=0.0, max=9912422.0), HTML(value='')))"
            ]
          },
          "metadata": {
            "tags": []
          }
        },
        {
          "output_type": "stream",
          "text": [
            "\n",
            "Extracting ../data/MNIST/MNIST/raw/train-images-idx3-ubyte.gz to ../data/MNIST/MNIST/raw\n",
            "\n",
            "Downloading http://yann.lecun.com/exdb/mnist/train-labels-idx1-ubyte.gz\n",
            "Failed to download (trying next):\n",
            "HTTP Error 503: Service Unavailable\n",
            "\n",
            "Downloading https://ossci-datasets.s3.amazonaws.com/mnist/train-labels-idx1-ubyte.gz\n",
            "Downloading https://ossci-datasets.s3.amazonaws.com/mnist/train-labels-idx1-ubyte.gz to ../data/MNIST/MNIST/raw/train-labels-idx1-ubyte.gz\n"
          ],
          "name": "stdout"
        },
        {
          "output_type": "display_data",
          "data": {
            "application/vnd.jupyter.widget-view+json": {
              "model_id": "157c89c08aa14491b34a017dbc416b67",
              "version_minor": 0,
              "version_major": 2
            },
            "text/plain": [
              "HBox(children=(FloatProgress(value=0.0, max=28881.0), HTML(value='')))"
            ]
          },
          "metadata": {
            "tags": []
          }
        },
        {
          "output_type": "stream",
          "text": [
            "\n",
            "Extracting ../data/MNIST/MNIST/raw/train-labels-idx1-ubyte.gz to ../data/MNIST/MNIST/raw\n",
            "\n",
            "Downloading http://yann.lecun.com/exdb/mnist/t10k-images-idx3-ubyte.gz\n",
            "Failed to download (trying next):\n",
            "HTTP Error 503: Service Unavailable\n",
            "\n",
            "Downloading https://ossci-datasets.s3.amazonaws.com/mnist/t10k-images-idx3-ubyte.gz\n",
            "Downloading https://ossci-datasets.s3.amazonaws.com/mnist/t10k-images-idx3-ubyte.gz to ../data/MNIST/MNIST/raw/t10k-images-idx3-ubyte.gz\n"
          ],
          "name": "stdout"
        },
        {
          "output_type": "display_data",
          "data": {
            "application/vnd.jupyter.widget-view+json": {
              "model_id": "3db50c6158994373b778ba1fe1b9299d",
              "version_minor": 0,
              "version_major": 2
            },
            "text/plain": [
              "HBox(children=(FloatProgress(value=0.0, max=1648877.0), HTML(value='')))"
            ]
          },
          "metadata": {
            "tags": []
          }
        },
        {
          "output_type": "stream",
          "text": [
            "\n",
            "Extracting ../data/MNIST/MNIST/raw/t10k-images-idx3-ubyte.gz to ../data/MNIST/MNIST/raw\n",
            "\n",
            "Downloading http://yann.lecun.com/exdb/mnist/t10k-labels-idx1-ubyte.gz\n",
            "Failed to download (trying next):\n",
            "HTTP Error 503: Service Unavailable\n",
            "\n",
            "Downloading https://ossci-datasets.s3.amazonaws.com/mnist/t10k-labels-idx1-ubyte.gz\n",
            "Downloading https://ossci-datasets.s3.amazonaws.com/mnist/t10k-labels-idx1-ubyte.gz to ../data/MNIST/MNIST/raw/t10k-labels-idx1-ubyte.gz\n"
          ],
          "name": "stdout"
        },
        {
          "output_type": "display_data",
          "data": {
            "application/vnd.jupyter.widget-view+json": {
              "model_id": "ac084bd49f8b4704ba20227bd4db3f59",
              "version_minor": 0,
              "version_major": 2
            },
            "text/plain": [
              "HBox(children=(FloatProgress(value=0.0, max=4542.0), HTML(value='')))"
            ]
          },
          "metadata": {
            "tags": []
          }
        },
        {
          "output_type": "stream",
          "text": [
            "\n",
            "Extracting ../data/MNIST/MNIST/raw/t10k-labels-idx1-ubyte.gz to ../data/MNIST/MNIST/raw\n",
            "\n",
            "Processing...\n",
            "Done!\n"
          ],
          "name": "stdout"
        }
      ]
    },
    {
      "cell_type": "code",
      "metadata": {
        "colab": {
          "base_uri": "https://localhost:8080/",
          "height": 94
        },
        "id": "efs4TmFypL0i",
        "outputId": "1b011197-62d3-4c24-e1b9-30ccaca687dc"
      },
      "source": [
        "for (X_train, y_train) in train_loader:\n",
        "  break\n",
        "\n",
        "pltsize = 1\n",
        "plt.figure(figsize=(10 * pltsize, pltsize))\n",
        "for i in range(10):\n",
        "  plt.subplot(1, 10, i + 1)\n",
        "  plt.axis('off')\n",
        "  plt.imshow(X_train[i, :, :, :].numpy().reshape(28, 28), cmap='gray_r')\n",
        "  plt.title('Class: ' + str(y_train[i].item()))"
      ],
      "execution_count": null,
      "outputs": [
        {
          "output_type": "display_data",
          "data": {
            "image/png": "[encoded data removed]",
            "text/plain": [
              "<Figure size 720x72 with 10 Axes>"
            ]
          },
          "metadata": {
            "tags": [],
            "needs_background": "light"
          }
        }
      ]
    },
    {
      "cell_type": "code",
      "metadata": {
        "id": "spJ-EvbXp_AT"
      },
      "source": [
        "def train(model, train_loader):\n",
        "  model.train()\n",
        "  train_loss = 0\n",
        "  correct = 0\n",
        "\n",
        "  for batch_idx, (image, label) in enumerate(train_loader):\n",
        "    image = image.to(DEVICE)\n",
        "    label = label.to(DEVICE)\n",
        "    optimizer.zero_grad()\n",
        "    output = model(image)\n",
        "    loss = criterion(output, label)\n",
        "    loss.backward()\n",
        "    optimizer.step()\n",
        "\n",
        "    train_loss += loss.item()\n",
        "    prediction = output.max(1, keepdim = True)[1]\n",
        "    correct += prediction.eq(label.view_as(prediction)).sum().item()\n",
        "      \n",
        "  train_loss /= len(train_loader.dataset)\n",
        "  train_accuracy = 100. * correct / len(train_loader.dataset)\n",
        "  return train_loss, train_accuracy"
      ],
      "execution_count": null,
      "outputs": []
    },
    {
      "cell_type": "code",
      "metadata": {
        "id": "LBIYXA74qFgT"
      },
      "source": [
        "def evaluate(model, test_loader):\n",
        "  model.eval()\n",
        "  test_loss = 0\n",
        "  correct = 0\n",
        "\n",
        "  with torch.no_grad():\n",
        "    for image, label in test_loader:\n",
        "      image = image.to(DEVICE)\n",
        "      label = label.to(DEVICE)\n",
        "      output = model(image)\n",
        "      test_loss += criterion(output, label).item()\n",
        "      prediction = output.max(1, keepdim = True)[1]\n",
        "      correct += prediction.eq(label.view_as(prediction)).sum().item()\n",
        "\n",
        "  test_loss /= len(test_loader.dataset)\n",
        "  test_accuracy = 100. * correct / len(test_loader.dataset)\n",
        "  return test_loss, test_accuracy"
      ],
      "execution_count": null,
      "outputs": []
    },
    {
      "cell_type": "markdown",
      "metadata": {
        "id": "Y0j6_E5L2Aoj"
      },
      "source": [
        "# 학습된 가중치를 Base로 모델을 전체 Train\n",
        "\n",
        "이는 Pre - Trained Model의 가중치를 초기 가중치로 활용한 경우로 어느 정도 모델의 성능이 우수하다는 것을 확인 할 수 있다."
      ]
    },
    {
      "cell_type": "code",
      "metadata": {
        "id": "niL7kFb4uGpY",
        "colab": {
          "base_uri": "https://localhost:8080/",
          "height": 105,
          "referenced_widgets": [
            "bf587ed679164e649d01182b77b2c74c",
            "ae5e8059ed8c43bd9b8c48f4ed691a83",
            "319ebc39d34a4b5b9fd60902f1adae53",
            "098658d656ea4a78afca8b6f6f51aa9b",
            "a87d652d675540479607b6b0bc910529",
            "7be9bbe549ef42e9b06029b0af4483db",
            "0b3dd962a5fa4514964494bfea8427c7",
            "ba2ad373b71f42b0922464e94332f876"
          ]
        },
        "outputId": "c61ee9b1-dad2-4a87-b8c1-e6f9ebd0c8f7"
      },
      "source": [
        "model = torchvision.models.densenet121(pretrained = True)\n",
        "\n",
        "output = model.features.conv0.out_channels\n",
        "model.features.conv0 = nn.Conv2d(1, output, kernel_size=(7, 7), stride=(2, 2), padding=(4, 4), bias=False)\n",
        "input = model.classifier.in_features\n",
        "model.classifier = nn.Linear(input, out_features = 10)\n",
        "model = model.to(DEVICE)\n",
        "\n",
        "optimizer = torch.optim.Adam(model.parameters(), lr = 0.01)\n",
        "criterion = nn.CrossEntropyLoss()"
      ],
      "execution_count": null,
      "outputs": [
        {
          "output_type": "stream",
          "text": [
            "Downloading: \"https://download.pytorch.org/models/densenet121-a639ec97.pth\" to /root/.cache/torch/hub/checkpoints/densenet121-a639ec97.pth\n"
          ],
          "name": "stderr"
        },
        {
          "output_type": "display_data",
          "data": {
            "application/vnd.jupyter.widget-view+json": {
              "model_id": "bf587ed679164e649d01182b77b2c74c",
              "version_minor": 0,
              "version_major": 2
            },
            "text/plain": [
              "HBox(children=(FloatProgress(value=0.0, max=32342954.0), HTML(value='')))"
            ]
          },
          "metadata": {
            "tags": []
          }
        },
        {
          "output_type": "stream",
          "text": [
            "\n"
          ],
          "name": "stdout"
        }
      ]
    },
    {
      "cell_type": "code",
      "metadata": {
        "colab": {
          "base_uri": "https://localhost:8080/"
        },
        "id": "ioVn1dUxsIi_",
        "outputId": "ee6d59bf-866d-4dd7-d586-1a0184dc83d1"
      },
      "source": [
        "result_list = []\n",
        "for epoch in range(1, EPOCHS + 1):\n",
        "  train_loss, train_accuracy = train(model, train_loader)\n",
        "  test_loss, test_accuracy = evaluate(model, test_loader)\n",
        "  print(f\"\\n[EPOCH: {epoch}], \\tTrain Loss: {train_loss:.4f}, \\tTrain Accuracy: {train_accuracy:.2f} %, \\tTest Loss: {test_loss:.4f}, \\tTest Accuracy: {test_accuracy:.2f} % \\n\")\n",
        "  result = {\n",
        "    'EPOCH': epoch,\n",
        "    'Train Loss': train_loss,\n",
        "    'Train Accuracy': train_accuracy,\n",
        "    'Test Loss': test_loss,\n",
        "    'Test Accuracy': test_accuracy}\n",
        "  \n",
        "  result_list.append(result)\n",
        "result_df = pd.DataFrame(result_list)"
      ],
      "execution_count": null,
      "outputs": [
        {
          "output_type": "stream",
          "text": [
            "\n",
            "[EPOCH: 1], \tTrain Loss: 0.0024, \tTrain Accuracy: 90.05 %, \tTest Loss: 0.0005, \tTest Accuracy: 98.19 % \n",
            "\n",
            "\n",
            "[EPOCH: 2], \tTrain Loss: 0.0006, \tTrain Accuracy: 97.73 %, \tTest Loss: 0.0009, \tTest Accuracy: 96.77 % \n",
            "\n",
            "\n",
            "[EPOCH: 3], \tTrain Loss: 0.0004, \tTrain Accuracy: 98.28 %, \tTest Loss: 0.0004, \tTest Accuracy: 98.53 % \n",
            "\n",
            "\n",
            "[EPOCH: 4], \tTrain Loss: 0.0003, \tTrain Accuracy: 98.62 %, \tTest Loss: 0.0003, \tTest Accuracy: 98.76 % \n",
            "\n",
            "\n",
            "[EPOCH: 5], \tTrain Loss: 0.0003, \tTrain Accuracy: 98.74 %, \tTest Loss: 0.0004, \tTest Accuracy: 98.57 % \n",
            "\n",
            "\n",
            "[EPOCH: 6], \tTrain Loss: 0.0003, \tTrain Accuracy: 98.92 %, \tTest Loss: 0.0005, \tTest Accuracy: 97.98 % \n",
            "\n",
            "\n",
            "[EPOCH: 7], \tTrain Loss: 0.0011, \tTrain Accuracy: 98.15 %, \tTest Loss: 177.1540, \tTest Accuracy: 10.13 % \n",
            "\n",
            "\n",
            "[EPOCH: 8], \tTrain Loss: 0.0007, \tTrain Accuracy: 97.28 %, \tTest Loss: 0.0003, \tTest Accuracy: 98.90 % \n",
            "\n",
            "\n",
            "[EPOCH: 9], \tTrain Loss: 0.0003, \tTrain Accuracy: 98.80 %, \tTest Loss: 0.0003, \tTest Accuracy: 98.67 % \n",
            "\n",
            "\n",
            "[EPOCH: 10], \tTrain Loss: 0.0003, \tTrain Accuracy: 98.98 %, \tTest Loss: 0.0003, \tTest Accuracy: 98.82 % \n",
            "\n"
          ],
          "name": "stdout"
        }
      ]
    },
    {
      "cell_type": "code",
      "metadata": {
        "colab": {
          "base_uri": "https://localhost:8080/",
          "height": 295
        },
        "id": "AMNqp8Y4sIjA",
        "outputId": "6e4d35b7-23c7-4a27-e525-639e90b7aad1"
      },
      "source": [
        "fig, axes = plt.subplots(nrows=1, ncols=2, figsize=(15, 5))\n",
        "fig.suptitle('Learning Curves')\n",
        "axes[0].plot(result_df['EPOCH'], result_df['Train Loss'], label='Train Loss')\n",
        "axes[0].plot(result_df['EPOCH'], result_df['Test Loss'], label='Test Loss')\n",
        "axes[0].set_ylim(0.0, 0.01)\n",
        "axes[0].legend()\n",
        "\n",
        "axes[1].plot(result_df['EPOCH'], result_df['Train Accuracy'], label='Train Accuracy')\n",
        "axes[1].plot(result_df['EPOCH'], result_df['Test Accuracy'], label='Test Accuracy')\n",
        "axes[1].set_ylim(80, 100)\n",
        "axes[1].legend()\n",
        "plt.tight_layout()\n",
        "plt.show()"
      ],
      "execution_count": null,
      "outputs": [
        {
          "output_type": "display_data",
          "data": {
            "image/png": "[encoded data removed]",
            "text/plain": [
              "<Figure size 1080x360 with 2 Axes>"
            ]
          },
          "metadata": {
            "tags": [],
            "needs_background": "light"
          }
        }
      ]
    },
    {
      "cell_type": "markdown",
      "metadata": {
        "id": "4nO9Jyn12J8R"
      },
      "source": [
        "# 학습된 가중치를 Freeze 하고 input Layer와 output Layer만 Train\n",
        "\n",
        "이는 Pre - Trained Model의 가중치를 고정 시킨 상태로 Classifier 부분만 학습시킨 경우로 모델을 학습시켰던 데이터 셋과 헌재 모델을 학습시키는 데이터 셋의 유사성이 떨어져 모델의 성능이 별로 좋지 않다는 것을 확인 할 수 있다."
      ]
    },
    {
      "cell_type": "code",
      "metadata": {
        "id": "gG3RBfys1MSR"
      },
      "source": [
        "model = torchvision.models.densenet121(pretrained = True)\n",
        "\n",
        "# param Freenze\n",
        "for param in model.parameters():\n",
        "  param.requires_grad = False\n",
        "\n",
        "# input Layer와 output Layer만을 학습시킴\n",
        "output = model.features.conv0.out_channels\n",
        "model.features.conv0 = nn.Conv2d(1, output, kernel_size=(7, 7), stride=(2, 2), padding=(4, 4), bias=False)\n",
        "input = model.classifier.in_features\n",
        "model.classifier = nn.Linear(input, out_features = 10)\n",
        "model = model.to(DEVICE)\n",
        "\n",
        "optimizer = torch.optim.Adam(model.parameters(), lr = 0.01)\n",
        "criterion = nn.CrossEntropyLoss()"
      ],
      "execution_count": null,
      "outputs": []
    },
    {
      "cell_type": "code",
      "metadata": {
        "colab": {
          "base_uri": "https://localhost:8080/"
        },
        "id": "6Kk4NM-i1MSR",
        "outputId": "83650441-2a40-4feb-8b94-976c2ddbd181"
      },
      "source": [
        "result_list = []\n",
        "for epoch in range(1, EPOCHS + 1):\n",
        "  train_loss, train_accuracy = train(model, train_loader)\n",
        "  test_loss, test_accuracy = evaluate(model, test_loader)\n",
        "  print(f\"\\n[EPOCH: {epoch}], \\tTrain Loss: {train_loss:.4f}, \\tTrain Accuracy: {train_accuracy:.2f} %, \\tTest Loss: {test_loss:.4f}, \\tTest Accuracy: {test_accuracy:.2f} % \\n\")\n",
        "  result = {\n",
        "    'EPOCH': epoch,\n",
        "    'Train Loss': train_loss,\n",
        "    'Train Accuracy': train_accuracy,\n",
        "    'Test Loss': test_loss,\n",
        "    'Test Accuracy': test_accuracy}\n",
        "  \n",
        "  result_list.append(result)\n",
        "result_df = pd.DataFrame(result_list)"
      ],
      "execution_count": null,
      "outputs": [
        {
          "output_type": "stream",
          "text": [
            "\n",
            "[EPOCH: 1], \tTrain Loss: 0.0052, \tTrain Accuracy: 79.62 %, \tTest Loss: 0.0035, \tTest Accuracy: 86.73 % \n",
            "\n",
            "\n",
            "[EPOCH: 2], \tTrain Loss: 0.0031, \tTrain Accuracy: 88.90 %, \tTest Loss: 0.0028, \tTest Accuracy: 90.55 % \n",
            "\n",
            "\n",
            "[EPOCH: 3], \tTrain Loss: 0.0028, \tTrain Accuracy: 90.47 %, \tTest Loss: 0.0027, \tTest Accuracy: 90.93 % \n",
            "\n",
            "\n",
            "[EPOCH: 4], \tTrain Loss: 0.0026, \tTrain Accuracy: 91.55 %, \tTest Loss: 0.0024, \tTest Accuracy: 92.53 % \n",
            "\n",
            "\n",
            "[EPOCH: 5], \tTrain Loss: 0.0026, \tTrain Accuracy: 91.83 %, \tTest Loss: 0.0034, \tTest Accuracy: 91.15 % \n",
            "\n",
            "\n",
            "[EPOCH: 6], \tTrain Loss: 0.0025, \tTrain Accuracy: 92.30 %, \tTest Loss: 0.0026, \tTest Accuracy: 93.20 % \n",
            "\n",
            "\n",
            "[EPOCH: 7], \tTrain Loss: 0.0024, \tTrain Accuracy: 92.84 %, \tTest Loss: 0.0025, \tTest Accuracy: 92.69 % \n",
            "\n",
            "\n",
            "[EPOCH: 8], \tTrain Loss: 0.0025, \tTrain Accuracy: 92.81 %, \tTest Loss: 0.0023, \tTest Accuracy: 93.74 % \n",
            "\n",
            "\n",
            "[EPOCH: 9], \tTrain Loss: 0.0024, \tTrain Accuracy: 93.21 %, \tTest Loss: 0.0022, \tTest Accuracy: 93.39 % \n",
            "\n",
            "\n",
            "[EPOCH: 10], \tTrain Loss: 0.0023, \tTrain Accuracy: 93.62 %, \tTest Loss: 0.0030, \tTest Accuracy: 92.57 % \n",
            "\n"
          ],
          "name": "stdout"
        }
      ]
    },
    {
      "cell_type": "code",
      "metadata": {
        "colab": {
          "base_uri": "https://localhost:8080/",
          "height": 295
        },
        "id": "GrRz4GzW1MSS",
        "outputId": "f3c3aa5d-a063-4189-de79-a55240e4fee7"
      },
      "source": [
        "fig, axes = plt.subplots(nrows=1, ncols=2, figsize=(15, 5))\n",
        "fig.suptitle('Learning Curves')\n",
        "axes[0].plot(result_df['EPOCH'], result_df['Train Loss'], label='Train Loss')\n",
        "axes[0].plot(result_df['EPOCH'], result_df['Test Loss'], label='Test Loss')\n",
        "axes[0].set_ylim(0.0, 0.01)\n",
        "axes[0].legend()\n",
        "\n",
        "axes[1].plot(result_df['EPOCH'], result_df['Train Accuracy'], label='Train Accuracy')\n",
        "axes[1].plot(result_df['EPOCH'], result_df['Test Accuracy'], label='Test Accuracy')\n",
        "axes[1].set_ylim(80, 100)\n",
        "axes[1].legend()\n",
        "plt.tight_layout()\n",
        "plt.show()"
      ],
      "execution_count": null,
      "outputs": [
        {
          "output_type": "display_data",
          "data": {
            "image/png": "[encoded data removed]",
            "text/plain": [
              "<Figure size 1080x360 with 2 Axes>"
            ]
          },
          "metadata": {
            "tags": [],
            "needs_background": "light"
          }
        }
      ]
    },
    {
      "cell_type": "markdown",
      "metadata": {
        "id": "C5tkfGjX2cHS"
      },
      "source": [
        "# 모델의 구조만 불러와서 Train\n",
        "\n",
        "이는 모델의 구조만 불러와서 학습시킨 경우로 학습된 가중치를 Base로 모델을 전체 학습 시켰던 경우와 모델의 성능이 유사하다는 것을 확인할 수 있다. 이를 통해서 DenseNet의 경우 모델 자체가 너무 크기 때문에 MNIST 데이터에 대해서는 좋은 성능을 가져다 주는 모델의 구조는 아니라는 것을 유추해볼 수 있다."
      ]
    },
    {
      "cell_type": "code",
      "metadata": {
        "id": "dIJBIC1y1mIj"
      },
      "source": [
        "model = torchvision.models.densenet121(pretrained = False)\n",
        "\n",
        "output = model.features.conv0.out_channels\n",
        "model.features.conv0 = nn.Conv2d(1, output, kernel_size=(7, 7), stride=(2, 2), padding=(4, 4), bias=False)\n",
        "input = model.classifier.in_features\n",
        "model.classifier = nn.Linear(input, out_features = 10)\n",
        "model = model.to(DEVICE)\n",
        "\n",
        "optimizer = torch.optim.Adam(model.parameters(), lr = 0.01)\n",
        "criterion = nn.CrossEntropyLoss()"
      ],
      "execution_count": null,
      "outputs": []
    },
    {
      "cell_type": "code",
      "metadata": {
        "colab": {
          "base_uri": "https://localhost:8080/"
        },
        "id": "GQrtse7v1mIk",
        "outputId": "5d234136-211e-431f-d2b7-9730128ba34a"
      },
      "source": [
        "result_list = []\n",
        "for epoch in range(1, EPOCHS + 1):\n",
        "  train_loss, train_accuracy = train(model, train_loader)\n",
        "  test_loss, test_accuracy = evaluate(model, test_loader)\n",
        "  print(f\"\\n[EPOCH: {epoch}], \\tTrain Loss: {train_loss:.4f}, \\tTrain Accuracy: {train_accuracy:.2f} %, \\tTest Loss: {test_loss:.4f}, \\tTest Accuracy: {test_accuracy:.2f} % \\n\")\n",
        "  result = {\n",
        "    'EPOCH': epoch,\n",
        "    'Train Loss': train_loss,\n",
        "    'Train Accuracy': train_accuracy,\n",
        "    'Test Loss': test_loss,\n",
        "    'Test Accuracy': test_accuracy}\n",
        "  \n",
        "  result_list.append(result)\n",
        "result_df = pd.DataFrame(result_list)"
      ],
      "execution_count": null,
      "outputs": [
        {
          "output_type": "stream",
          "text": [
            "\n",
            "[EPOCH: 1], \tTrain Loss: 0.0012, \tTrain Accuracy: 95.19 %, \tTest Loss: 0.0007, \tTest Accuracy: 97.15 % \n",
            "\n",
            "\n",
            "[EPOCH: 2], \tTrain Loss: 0.0005, \tTrain Accuracy: 98.13 %, \tTest Loss: 0.0005, \tTest Accuracy: 98.09 % \n",
            "\n",
            "\n",
            "[EPOCH: 3], \tTrain Loss: 0.0004, \tTrain Accuracy: 98.65 %, \tTest Loss: 0.0004, \tTest Accuracy: 98.27 % \n",
            "\n",
            "\n",
            "[EPOCH: 4], \tTrain Loss: 0.0003, \tTrain Accuracy: 98.82 %, \tTest Loss: 0.0003, \tTest Accuracy: 98.82 % \n",
            "\n",
            "\n",
            "[EPOCH: 5], \tTrain Loss: 0.0003, \tTrain Accuracy: 98.97 %, \tTest Loss: 0.0006, \tTest Accuracy: 97.70 % \n",
            "\n",
            "\n",
            "[EPOCH: 6], \tTrain Loss: 0.0002, \tTrain Accuracy: 99.10 %, \tTest Loss: 0.0005, \tTest Accuracy: 98.41 % \n",
            "\n",
            "\n",
            "[EPOCH: 7], \tTrain Loss: 0.0002, \tTrain Accuracy: 99.04 %, \tTest Loss: 0.0002, \tTest Accuracy: 99.03 % \n",
            "\n",
            "\n",
            "[EPOCH: 8], \tTrain Loss: 0.0002, \tTrain Accuracy: 99.14 %, \tTest Loss: 0.0002, \tTest Accuracy: 98.98 % \n",
            "\n",
            "\n",
            "[EPOCH: 9], \tTrain Loss: 0.0002, \tTrain Accuracy: 99.15 %, \tTest Loss: 0.0003, \tTest Accuracy: 98.69 % \n",
            "\n",
            "\n",
            "[EPOCH: 10], \tTrain Loss: 0.0002, \tTrain Accuracy: 99.28 %, \tTest Loss: 0.0003, \tTest Accuracy: 98.98 % \n",
            "\n"
          ],
          "name": "stdout"
        }
      ]
    },
    {
      "cell_type": "code",
      "metadata": {
        "colab": {
          "base_uri": "https://localhost:8080/",
          "height": 295
        },
        "id": "xBPiE0Cd1mIk",
        "outputId": "ba7fe574-3091-4bb6-acef-d370d891d5f6"
      },
      "source": [
        "fig, axes = plt.subplots(nrows=1, ncols=2, figsize=(15, 5))\n",
        "fig.suptitle('Learning Curves')\n",
        "axes[0].plot(result_df['EPOCH'], result_df['Train Loss'], label='Train Loss')\n",
        "axes[0].plot(result_df['EPOCH'], result_df['Test Loss'], label='Test Loss')\n",
        "axes[0].set_ylim(0.0, 0.01)\n",
        "axes[0].legend()\n",
        "\n",
        "axes[1].plot(result_df['EPOCH'], result_df['Train Accuracy'], label='Train Accuracy')\n",
        "axes[1].plot(result_df['EPOCH'], result_df['Test Accuracy'], label='Test Accuracy')\n",
        "axes[1].set_ylim(80, 100)\n",
        "axes[1].legend()\n",
        "plt.tight_layout()\n",
        "plt.show()"
      ],
      "execution_count": null,
      "outputs": [
        {
          "output_type": "display_data",
          "data": {
            "image/png": "[encoded data removed]",
            "text/plain": [
              "<Figure size 1080x360 with 2 Axes>"
            ]
          },
          "metadata": {
            "tags": [],
            "needs_background": "light"
          }
        }
      ]
    },
    {
      "cell_type": "markdown",
      "metadata": {
        "id": "Vc9h3r-x-c4f"
      },
      "source": [
        "# 참고자료\n",
        "\n",
        "- 파이썬 머신러닝 완벽 가이드, 권철민\n",
        "- 파이썬 딥러닝 파이토치, 이경택\n",
        "- 핸즈온 머신러닝, 박해선\n",
        "- 데이터 사이언스 스쿨, https://datascienceschool.net/\n",
        "- 데이터 분석 대표 대학생 연합 동아리 Tobigs, http://www.datamarket.kr/\n",
        "- DeepLearnig.AI Course 1 ~ 5, Andrew Ng, https://www.youtube.com/c/Deeplearningai/playlists\n",
        "- 모두를 위한 딥러닝 시즌 2, https://deeplearningzerotoall.github.io/season2/\n",
        "- T아카데미 Scikit-Learn으로 다지는 머신러닝 기초, 강천성, https://tacademy.skplanet.com/live/player/onlineLectureDetail.action\n",
        "- Pytorch로 시작하는 딥 러닝 입문, 유원준, https://wikidocs.net/book/2788\n",
        "- https://pytorch.org/tutorials/beginner/finetuning_torchvision_models_tutorial.html\n",
        "- https://pytorch.org/tutorials/beginner/transfer_learning_tutorial.html"
      ]
    }
  ]
}